{
  "cells": [
    {
      "cell_type": "markdown",
      "id": "7c159c07",
      "metadata": {
        "id": "7c159c07"
      },
      "source": [
        "# OS-Atlas Tutorial with FiftyOne\n",
        "\n",
        "This tutorial demonstrates how to use the OS-Atlas vision-language models with FiftyOne as a vision-language-action model designed for GUI agents.\n",
        "\n",
        "## 1. Load a Sample Dataset\n",
        "\n",
        "First, let's load a small UI dataset from the FiftyOne Hugging Face org."
      ]
    },
    {
      "cell_type": "code",
      "execution_count": null,
      "id": "51d9d6ba",
      "metadata": {
        "id": "51d9d6ba"
      },
      "outputs": [],
      "source": [
        "import fiftyone as fo\n",
        "import fiftyone.zoo as foz\n",
        "\n",
        "import fiftyone.utils.huggingface as fouh\n",
        "\n",
        "dataset = fouh.load_from_hub(\n",
        "    \"Voxel51/GroundUI-18k\",\n",
        "    overwrite=True,\n",
        "    max_samples=200,\n",
        "    persistent=True\n",
        "    )"
      ]
    },
    {
      "cell_type": "code",
      "execution_count": null,
      "id": "9318eb5e",
      "metadata": {
        "id": "9318eb5e"
      },
      "outputs": [],
      "source": [
        "# if you've already downloaded this dataset you can load it via:\n",
        "\n",
        "# import fiftyone as fo\n",
        "# import fiftyone.zoo as foz\n",
        "\n",
        "# dataset = fo.load_dataset(\"Voxel51/GroundUI-18k\")"
      ]
    },
    {
      "cell_type": "markdown",
      "id": "bac89947",
      "metadata": {
        "id": "bac89947"
      },
      "source": [
        "Launch the FiftyOne App to visualize the dataset (optional)"
      ]
    },
    {
      "cell_type": "code",
      "execution_count": null,
      "id": "d37ca651",
      "metadata": {
        "id": "d37ca651"
      },
      "outputs": [],
      "source": [
        "fo.launch_app(dataset)"
      ]
    },
    {
      "cell_type": "markdown",
      "id": "9065f657",
      "metadata": {
        "id": "9065f657"
      },
      "source": [
        "## 2. Set Up OS-Atlas Integration\n",
        "\n",
        "Register the OS-Atlas remote zoo model source and load the model."
      ]
    },
    {
      "cell_type": "code",
      "execution_count": null,
      "id": "710ffc9b",
      "metadata": {
        "id": "710ffc9b",
        "lines_to_next_cell": 2
      },
      "outputs": [],
      "source": [
        "import fiftyone.zoo as foz\n",
        "\n",
        "# Register the model source\n",
        "foz.register_zoo_model_source(\"https://github.com/harpreetsahota204/os_atlas\", overwrite=True)"
      ]
    },
    {
      "cell_type": "markdown",
      "id": "f80e0985",
      "metadata": {
        "id": "f80e0985"
      },
      "source": [
        "# Load the OS-Atlas model\n"
      ]
    },
    {
      "cell_type": "code",
      "execution_count": null,
      "id": "96097cf9",
      "metadata": {
        "id": "96097cf9"
      },
      "outputs": [],
      "source": [
        "model = foz.load_zoo_model(\n",
        "    \"OS-Copilot/OS-Atlas-Base-7B\", # you could also use \"OS-Copilot/OS-Atlas-Pro-7B\"\n",
        "    # install_requirements=True, # you can pass this to make sure you have all reqs installed\n",
        "    )"
      ]
    },
    {
      "cell_type": "markdown",
      "id": "a16da702",
      "metadata": {
        "id": "a16da702"
      },
      "source": [
        "Note that for any of the following operations you can use a Field which currently exists on your dataset, all you need to do is pass the name of that field in `prompt_field` when you call `apply_model`. For example:\n",
        "\n",
        "```python\n",
        "dataset.apply_model(model, prompt_field=\"<field-name>\", label_field=\"<label-field>\")\n",
        "```"
      ]
    },
    {
      "cell_type": "markdown",
      "id": "9e560cee",
      "metadata": {
        "id": "9e560cee"
      },
      "source": [
        "## 3. Visual Question Answering\n",
        "\n",
        "Ask the model to describe UI screenshots."
      ]
    },
    {
      "cell_type": "code",
      "execution_count": null,
      "id": "2214375e",
      "metadata": {
        "id": "2214375e"
      },
      "outputs": [],
      "source": [
        "model.operation = \"vqa\"\n",
        "model.prompt = \"Describe this screenshot and what the user might be doing in it.\"\n",
        "dataset.apply_model(model, label_field=\"vqa_results\")"
      ]
    },
    {
      "cell_type": "code",
      "execution_count": null,
      "id": "25d52cdb",
      "metadata": {},
      "outputs": [],
      "source": [
        "dataset.first()['vqa_results']"
      ]
    },
    {
      "cell_type": "markdown",
      "id": "d28cd8cb",
      "metadata": {
        "id": "d28cd8cb"
      },
      "source": [
        "Straightforward \"read the text\" style OCR:"
      ]
    },
    {
      "cell_type": "code",
      "execution_count": null,
      "id": "e9395243",
      "metadata": {
        "id": "e9395243"
      },
      "outputs": [],
      "source": [
        "model.prompt = \"Read the text on this screenshot\"\n",
        "dataset.apply_model(model, label_field=\"plain_ocr\")"
      ]
    },
    {
      "cell_type": "code",
      "execution_count": null,
      "id": "8edce66a",
      "metadata": {},
      "outputs": [],
      "source": [
        "dataset.first()['plain_ocr']"
      ]
    },
    {
      "cell_type": "markdown",
      "id": "39776eb2",
      "metadata": {
        "id": "39776eb2"
      },
      "source": [
        "## 4. Grounded Optical Character Recognition (OCR)\n",
        "\n",
        "Extract and locate text in the UI.\n",
        "\n",
        "Note: This will take a VERY LONG time!"
      ]
    },
    {
      "cell_type": "code",
      "execution_count": null,
      "id": "3bb7e474",
      "metadata": {
        "id": "3bb7e474"
      },
      "outputs": [],
      "source": [
        "model.operation = \"ocr\"\n",
        "model.prompt = \"Read the text for each UI element in this interface only once. Focus on text in toolbars, buttons, menus, and other controls. Do not read the same text more than once.\"\n",
        "dataset.apply_model(model, label_field=\"ocr_results\")"
      ]
    },
    {
      "cell_type": "code",
      "execution_count": null,
      "id": "15e4b82d",
      "metadata": {},
      "outputs": [],
      "source": [
        "dataset.first()['ocr_results']"
      ]
    },
    {
      "cell_type": "markdown",
      "id": "e22e469d",
      "metadata": {
        "id": "e22e469d"
      },
      "source": [
        "## 5. Keypoint Detection\n",
        "\n",
        "Identify important points in the UI."
      ]
    },
    {
      "cell_type": "code",
      "execution_count": null,
      "id": "33539c1e",
      "metadata": {
        "id": "33539c1e"
      },
      "outputs": [],
      "source": [
        "model.operation = \"point\"\n",
        "\n",
        "dataset.apply_model(\n",
        "    model,\n",
        "    prompt_field=\"instruction\", # using a field from the dataset\n",
        "    label_field=\"ui_keypoints\"\n",
        "    )"
      ]
    },
    {
      "cell_type": "code",
      "execution_count": null,
      "id": "fb5c2b53",
      "metadata": {},
      "outputs": [],
      "source": [
        "dataset.first()['ui_keypoints']"
      ]
    },
    {
      "cell_type": "markdown",
      "id": "44e5912a",
      "metadata": {
        "id": "44e5912a"
      },
      "source": [
        "## 6. Classification\n",
        "\n",
        "Classify the type of UI platform."
      ]
    },
    {
      "cell_type": "code",
      "execution_count": null,
      "id": "0b254fa2",
      "metadata": {
        "id": "0b254fa2"
      },
      "outputs": [],
      "source": [
        "model.operation = \"classify\"\n",
        "model.prompt = \"Classify this UI as coming from one of the following operating systems: android, ios, windows, macos, linux, chromeos, or other\"\n",
        "dataset.apply_model(model, label_field=\"ui_classifications\")"
      ]
    },
    {
      "cell_type": "code",
      "execution_count": null,
      "id": "99ec349a",
      "metadata": {},
      "outputs": [],
      "source": [
        "dataset.first()['ui_classifications']"
      ]
    },
    {
      "cell_type": "markdown",
      "id": "6248a902",
      "metadata": {
        "id": "6248a902"
      },
      "source": [
        "If your dataset has a field that you want to extract labels from to perform zero-shot classification, you can do so with the following code:"
      ]
    },
    {
      "cell_type": "code",
      "execution_count": 14,
      "id": "38efd90b",
      "metadata": {
        "id": "38efd90b"
      },
      "outputs": [],
      "source": [
        "classes = dataset.distinct(\"platform\")"
      ]
    },
    {
      "cell_type": "markdown",
      "id": "c6f034dd",
      "metadata": {
        "id": "c6f034dd"
      },
      "source": [
        "You can then use this as part of your prompt:"
      ]
    },
    {
      "cell_type": "code",
      "execution_count": null,
      "id": "1a23e899",
      "metadata": {
        "id": "1a23e899"
      },
      "outputs": [],
      "source": [
        "model.prompt = f\"Which of the following websites is this screenshot from? Pick from exactlt one of the following: {classes}\"\n",
        "dataset.apply_model(model, label_field=\"app_classifications\")"
      ]
    },
    {
      "cell_type": "code",
      "execution_count": null,
      "id": "275238fc",
      "metadata": {},
      "outputs": [],
      "source": [
        "dataset.first()['app_classifications']"
      ]
    },
    {
      "cell_type": "markdown",
      "id": "7acbf743",
      "metadata": {
        "id": "7acbf743"
      },
      "source": [
        "## 7. Agentic\n",
        "\n",
        "In this dataset, there's an `instruction` field that contains instructions for an agent."
      ]
    },
    {
      "cell_type": "code",
      "execution_count": null,
      "id": "9fc9c157",
      "metadata": {
        "id": "9fc9c157"
      },
      "outputs": [],
      "source": [
        "# If your dataset has a field called \"instruction\" with instructions\n",
        "model.operation = \"agentic\"\n",
        "dataset.apply_model(model, prompt_field=\"instruction\", label_field=\"agentic_output\")"
      ]
    },
    {
      "cell_type": "code",
      "execution_count": null,
      "id": "d02a184c",
      "metadata": {},
      "outputs": [],
      "source": [
        "dataset.first()['agentic_output']"
      ]
    },
    {
      "cell_type": "markdown",
      "id": "KFVsio5d7atu",
      "metadata": {
        "id": "KFVsio5d7atu"
      },
      "source": [
        "# 8. Detection"
      ]
    },
    {
      "cell_type": "code",
      "execution_count": null,
      "id": "mv25mMSh7bQi",
      "metadata": {
        "id": "mv25mMSh7bQi"
      },
      "outputs": [],
      "source": [
        "# If your dataset has a field called \"instruction\" with instructions\n",
        "model.operation = \"detect\"\n",
        "dataset.apply_model(model, prompt_field=\"instruction\", label_field=\"detect_output\")"
      ]
    },
    {
      "cell_type": "code",
      "execution_count": null,
      "id": "572dea78",
      "metadata": {},
      "outputs": [],
      "source": [
        "dataset.first()['detect_output']"
      ]
    },
    {
      "cell_type": "markdown",
      "id": "249c68f0",
      "metadata": {
        "id": "249c68f0"
      },
      "source": [
        "## 8. Set your own system prompts\n",
        "\n",
        "You can set your own system prompts for the model for any of the operations."
      ]
    },
    {
      "cell_type": "code",
      "execution_count": null,
      "id": "2a50a50b",
      "metadata": {
        "id": "2a50a50b"
      },
      "outputs": [],
      "source": [
        "# first, clear the system prompt\n",
        "model.system_prompt = None\n",
        "\n",
        "#then set your custom system prompt\n",
        "\n",
        "model.system_prompt = \"Your awesome custom system prompt!\""
      ]
    },
    {
      "cell_type": "markdown",
      "id": "001f52c6",
      "metadata": {
        "id": "001f52c6"
      },
      "source": [
        "## 9. View Results\n"
      ]
    },
    {
      "cell_type": "code",
      "execution_count": null,
      "id": "89bdf076",
      "metadata": {
        "id": "89bdf076"
      },
      "outputs": [],
      "source": [
        "# Visualize all results in the FiftyOne App\n",
        "session = fo.launch_app(dataset)"
      ]
    },
    {
      "cell_type": "code",
      "execution_count": 23,
      "id": "93933402",
      "metadata": {
        "id": "93933402"
      },
      "outputs": [],
      "source": [
        "session.freeze()"
      ]
    }
  ],
  "metadata": {
    "accelerator": "GPU",
    "colab": {
      "gpuType": "A100",
      "machine_shape": "hm",
      "provenance": []
    },
    "jupytext": {
      "cell_metadata_filter": "-all",
      "main_language": "python",
      "notebook_metadata_filter": "-all"
    },
    "kernelspec": {
      "display_name": "fo_develop",
      "language": "python",
      "name": "python3"
    },
    "language_info": {
      "codemirror_mode": {
        "name": "ipython",
        "version": 3
      },
      "file_extension": ".py",
      "mimetype": "text/x-python",
      "name": "python",
      "nbconvert_exporter": "python",
      "pygments_lexer": "ipython3",
      "version": "3.11.8"
    }
  },
  "nbformat": 4,
  "nbformat_minor": 5
}
