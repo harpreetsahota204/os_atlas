{
  "cells": [
    {
      "cell_type": "markdown",
      "id": "7c159c07",
      "metadata": {
        "id": "7c159c07"
      },
      "source": [
        "# OS-Atlas Tutorial with FiftyOne\n",
        "\n",
        "This tutorial demonstrates how to use the OS-Atlas vision-language models with FiftyOne as a vision-language-action model designed for GUI agents.\n",
        "\n",
        "## 1. Load a Sample Dataset\n",
        "\n",
        "First, let's load a small UI dataset from the FiftyOne Hugging Face org."
      ]
    },
    {
      "cell_type": "code",
      "execution_count": 1,
      "id": "51d9d6ba",
      "metadata": {
        "id": "51d9d6ba"
      },
      "outputs": [
        {
          "name": "stdout",
          "output_type": "stream",
          "text": [
            "Downloading config file fiftyone.yml from Voxel51/GroundUI-18k\n",
            "Loading dataset\n",
            "Importing samples...\n",
            " 100% |█████████████████| 200/200 [5.8ms elapsed, 0s remaining, 34.6K samples/s]       \n"
          ]
        }
      ],
      "source": [
        "import fiftyone as fo\n",
        "import fiftyone.zoo as foz\n",
        "\n",
        "import fiftyone.utils.huggingface as fouh\n",
        "\n",
        "dataset = fouh.load_from_hub(\n",
        "    \"Voxel51/GroundUI-18k\",\n",
        "    overwrite=True,\n",
        "    max_samples=200,\n",
        "    )"
      ]
    },
    {
      "cell_type": "code",
      "execution_count": null,
      "id": "9318eb5e",
      "metadata": {
        "id": "9318eb5e"
      },
      "outputs": [],
      "source": [
        "# if you've already downloaded this dataset you can load it via:\n",
        "\n",
        "# import fiftyone as fo\n",
        "# import fiftyone.zoo as foz\n",
        "\n",
        "# dataset = fo.load_dataset(\"Voxel51/GroundUI-18k\")"
      ]
    },
    {
      "cell_type": "markdown",
      "id": "bac89947",
      "metadata": {
        "id": "bac89947"
      },
      "source": [
        "Launch the FiftyOne App to visualize the dataset (optional)"
      ]
    },
    {
      "cell_type": "code",
      "execution_count": null,
      "id": "d37ca651",
      "metadata": {
        "id": "d37ca651"
      },
      "outputs": [],
      "source": [
        "fo.launch_app(dataset)"
      ]
    },
    {
      "cell_type": "markdown",
      "id": "9065f657",
      "metadata": {
        "id": "9065f657"
      },
      "source": [
        "## 2. Set Up OS-Atlas Integration\n",
        "\n",
        "Register the OS-Atlas remote zoo model source and load the model."
      ]
    },
    {
      "cell_type": "code",
      "execution_count": 2,
      "id": "710ffc9b",
      "metadata": {
        "id": "710ffc9b",
        "lines_to_next_cell": 2
      },
      "outputs": [
        {
          "name": "stdout",
          "output_type": "stream",
          "text": [
            "Downloading https://github.com/harpreetsahota204/os_atlas...\n",
            "  151.4Kb [48.0ms elapsed, ? remaining, 3.1Mb/s] \n",
            "Overwriting existing model source '/home/harpreet/fiftyone/__models__/'\n"
          ]
        }
      ],
      "source": [
        "import fiftyone.zoo as foz\n",
        "\n",
        "# Register the model source\n",
        "foz.register_zoo_model_source(\"https://github.com/harpreetsahota204/os_atlas\", overwrite=True)"
      ]
    },
    {
      "cell_type": "markdown",
      "id": "f80e0985",
      "metadata": {
        "id": "f80e0985"
      },
      "source": [
        "# Load the OS-Atlas model\n"
      ]
    },
    {
      "cell_type": "code",
      "execution_count": null,
      "id": "96097cf9",
      "metadata": {
        "id": "96097cf9"
      },
      "outputs": [],
      "source": [
        "model = foz.load_zoo_model(\n",
        "    \"OS-Copilot/OS-Atlas-Base-7B\", # you could also use \"OS-Copilot/OS-Atlas-Pro-7B\"\n",
        "    install_requirements=True, # you can pass this to make sure you have all reqs installed\n",
        "    )"
      ]
    },
    {
      "cell_type": "markdown",
      "id": "a16da702",
      "metadata": {
        "id": "a16da702"
      },
      "source": [
        "Note that for any of the following operations you can use a Field which currently exists on your dataset, all you need to do is pass the name of that field in `prompt_field` when you call `apply_model`. For example:\n",
        "\n",
        "```python\n",
        "dataset.apply_model(model, prompt_field=\"<field-name>\", label_field=\"<label-field>\")\n",
        "```"
      ]
    },
    {
      "cell_type": "markdown",
      "id": "9e560cee",
      "metadata": {
        "id": "9e560cee"
      },
      "source": [
        "## 3. Visual Question Answering\n",
        "\n",
        "Ask the model to describe UI screenshots."
      ]
    },
    {
      "cell_type": "code",
      "execution_count": 4,
      "id": "2214375e",
      "metadata": {
        "id": "2214375e"
      },
      "outputs": [
        {
          "name": "stdout",
          "output_type": "stream",
          "text": [
            " 100% |█████████████████████| 5/5 [18.1s elapsed, 0s remaining, 0.3 samples/s]   \n"
          ]
        }
      ],
      "source": [
        "model.operation = \"vqa\"\n",
        "model.prompt = \"Describe this screenshot and what the user might be doing in it.\"\n",
        "dataset.apply_model(model, label_field=\"vqa_results\")"
      ]
    },
    {
      "cell_type": "code",
      "execution_count": 5,
      "id": "25d52cdb",
      "metadata": {},
      "outputs": [
        {
          "data": {
            "text/plain": [
              "'The screenshot shows a webpage from the BabyCenter website, specifically a section of the Registry Builder tool. The user appears to be in the process of creating or updating a baby registry. The page displays a message indicating that the user has completed a step and is prompted to answer one more question before the recommended registries are finalized. There is a button labeled \"KEEP GOING!\" which suggests that the user can proceed to the next step in the registry creation process.'"
            ]
          },
          "execution_count": 5,
          "metadata": {},
          "output_type": "execute_result"
        }
      ],
      "source": [
        "dataset.first()['vqa_results']"
      ]
    },
    {
      "cell_type": "markdown",
      "id": "d28cd8cb",
      "metadata": {
        "id": "d28cd8cb"
      },
      "source": [
        "Straightforward \"read the text\" style OCR:"
      ]
    },
    {
      "cell_type": "code",
      "execution_count": 6,
      "id": "e9395243",
      "metadata": {
        "id": "e9395243"
      },
      "outputs": [
        {
          "name": "stdout",
          "output_type": "stream",
          "text": [
            " 100% |█████████████████████| 5/5 [18.5s elapsed, 0s remaining, 0.3 samples/s]   \n"
          ]
        }
      ],
      "source": [
        "model.prompt = \"Read the text on this screenshot\"\n",
        "dataset.apply_model(model, label_field=\"plain_ocr\")"
      ]
    },
    {
      "cell_type": "code",
      "execution_count": 7,
      "id": "8edce66a",
      "metadata": {},
      "outputs": [
        {
          "data": {
            "text/plain": [
              "'The text on the screenshot reads:\\n\\n\"You got it!\\nJust one more question before your recommended registries.\\nDon\\'t forget to come back to Registry Builder later to sync them all in one place.\\nKEEP GOING!\"'"
            ]
          },
          "execution_count": 7,
          "metadata": {},
          "output_type": "execute_result"
        }
      ],
      "source": [
        "dataset.first()['plain_ocr']"
      ]
    },
    {
      "cell_type": "markdown",
      "id": "39776eb2",
      "metadata": {
        "id": "39776eb2"
      },
      "source": [
        "## 4. Grounded Optical Character Recognition (OCR)\n",
        "\n",
        "Extract and locate text in the UI.\n",
        "\n",
        "Note: This will take a VERY LONG time!"
      ]
    },
    {
      "cell_type": "code",
      "execution_count": null,
      "id": "3bb7e474",
      "metadata": {
        "id": "3bb7e474"
      },
      "outputs": [],
      "source": [
        "model.operation = \"ocr\"\n",
        "model.prompt = \"Read the text for each UI element in this interface only once. Focus on text in toolbars, buttons, menus, and other controls. Do not read the same text more than once.\"\n",
        "dataset.apply_model(model, label_field=\"ocr_results\")"
      ]
    },
    {
      "cell_type": "code",
      "execution_count": 9,
      "id": "15e4b82d",
      "metadata": {},
      "outputs": [
        {
          "data": {
            "text/plain": [
              "<Detections: {\n",
              "    'detections': [\n",
              "        <Detection: {\n",
              "            'id': '6868174de8fbb96d55002c94',\n",
              "            'attributes': {},\n",
              "            'tags': [],\n",
              "            'label': 'menu',\n",
              "            'bounding_box': [0.0, 0.029, 0.034, 0.045],\n",
              "            'mask': None,\n",
              "            'mask_path': None,\n",
              "            'confidence': None,\n",
              "            'index': None,\n",
              "            'text': 'Menu',\n",
              "        }>,\n",
              "        <Detection: {\n",
              "            'id': '6868174de8fbb96d55002c95',\n",
              "            'attributes': {},\n",
              "            'tags': [],\n",
              "            'label': 'title',\n",
              "            'bounding_box': [0.399, 0.01, 0.201, 0.061],\n",
              "            'mask': None,\n",
              "            'mask_path': None,\n",
              "            'confidence': None,\n",
              "            'index': None,\n",
              "            'text': 'babycenter',\n",
              "        }>,\n",
              "        <Detection: {\n",
              "            'id': '6868174de8fbb96d55002c96',\n",
              "            'attributes': {},\n",
              "            'tags': [],\n",
              "            'label': 'button',\n",
              "            'bounding_box': [0.922, 0.029, 0.033, 0.045],\n",
              "            'mask': None,\n",
              "            'mask_path': None,\n",
              "            'confidence': None,\n",
              "            'index': None,\n",
              "            'text': 'Notification',\n",
              "        }>,\n",
              "        <Detection: {\n",
              "            'id': '6868174de8fbb96d55002c97',\n",
              "            'attributes': {},\n",
              "            'tags': [],\n",
              "            'label': 'button',\n",
              "            'bounding_box': [0.96, 0.029, 0.032, 0.045],\n",
              "            'mask': None,\n",
              "            'mask_path': None,\n",
              "            'confidence': None,\n",
              "            'index': None,\n",
              "            'text': 'Profile',\n",
              "        }>,\n",
              "        <Detection: {\n",
              "            'id': '6868174de8fbb96d55002c98',\n",
              "            'attributes': {},\n",
              "            'tags': [],\n",
              "            'label': 'menu',\n",
              "            'bounding_box': [0.0, 0.106, 0.072, 0.03],\n",
              "            'mask': None,\n",
              "            'mask_path': None,\n",
              "            'confidence': None,\n",
              "            'index': None,\n",
              "            'text': 'Community',\n",
              "        }>,\n",
              "        <Detection: {\n",
              "            'id': '6868174de8fbb96d55002c99',\n",
              "            'attributes': {},\n",
              "            'tags': [],\n",
              "            'label': 'menu',\n",
              "            'bounding_box': [0.072, 0.106, 0.132, 0.03],\n",
              "            'mask': None,\n",
              "            'mask_path': None,\n",
              "            'confidence': None,\n",
              "            'index': None,\n",
              "            'text': 'Getting Pregnant',\n",
              "        }>,\n",
              "        <Detection: {\n",
              "            'id': '6868174de8fbb96d55002c9a',\n",
              "            'attributes': {},\n",
              "            'tags': [],\n",
              "            'label': 'menu',\n",
              "            'bounding_box': [0.204, 0.106, 0.09, 0.03],\n",
              "            'mask': None,\n",
              "            'mask_path': None,\n",
              "            'confidence': None,\n",
              "            'index': None,\n",
              "            'text': 'Pregnancy',\n",
              "        }>,\n",
              "        <Detection: {\n",
              "            'id': '6868174de8fbb96d55002c9b',\n",
              "            'attributes': {},\n",
              "            'tags': [],\n",
              "            'label': 'menu',\n",
              "            'bounding_box': [0.294, 0.106, 0.098, 0.03],\n",
              "            'mask': None,\n",
              "            'mask_path': None,\n",
              "            'confidence': None,\n",
              "            'index': None,\n",
              "            'text': 'Baby Names',\n",
              "        }>,\n",
              "        <Detection: {\n",
              "            'id': '6868174de8fbb96d55002c9c',\n",
              "            'attributes': {},\n",
              "            'tags': [],\n",
              "            'label': 'menu',\n",
              "            'bounding_box': [0.392, 0.106, 0.052, 0.03],\n",
              "            'mask': None,\n",
              "            'mask_path': None,\n",
              "            'confidence': None,\n",
              "            'index': None,\n",
              "            'text': 'Baby',\n",
              "        }>,\n",
              "        <Detection: {\n",
              "            'id': '6868174de8fbb96d55002c9d',\n",
              "            'attributes': {},\n",
              "            'tags': [],\n",
              "            'label': 'menu',\n",
              "            'bounding_box': [0.444, 0.106, 0.076, 0.03],\n",
              "            'mask': None,\n",
              "            'mask_path': None,\n",
              "            'confidence': None,\n",
              "            'index': None,\n",
              "            'text': 'Toddler',\n",
              "        }>,\n",
              "        <Detection: {\n",
              "            'id': '6868174de8fbb96d55002c9e',\n",
              "            'attributes': {},\n",
              "            'tags': [],\n",
              "            'label': 'menu',\n",
              "            'bounding_box': [0.52, 0.106, 0.056, 0.03],\n",
              "            'mask': None,\n",
              "            'mask_path': None,\n",
              "            'confidence': None,\n",
              "            'index': None,\n",
              "            'text': 'Child',\n",
              "        }>,\n",
              "        <Detection: {\n",
              "            'id': '6868174de8fbb96d55002c9f',\n",
              "            'attributes': {},\n",
              "            'tags': [],\n",
              "            'label': 'menu',\n",
              "            'bounding_box': [0.576, 0.106, 0.068, 0.03],\n",
              "            'mask': None,\n",
              "            'mask_path': None,\n",
              "            'confidence': None,\n",
              "            'index': None,\n",
              "            'text': 'Health',\n",
              "        }>,\n",
              "        <Detection: {\n",
              "            'id': '6868174de8fbb96d55002ca0',\n",
              "            'attributes': {},\n",
              "            'tags': [],\n",
              "            'label': 'menu',\n",
              "            'bounding_box': [0.644, 0.106, 0.06, 0.03],\n",
              "            'mask': None,\n",
              "            'mask_path': None,\n",
              "            'confidence': None,\n",
              "            'index': None,\n",
              "            'text': 'Family',\n",
              "        }>,\n",
              "        <Detection: {\n",
              "            'id': '6868174de8fbb96d55002ca1',\n",
              "            'attributes': {},\n",
              "            'tags': [],\n",
              "            'label': 'menu',\n",
              "            'bounding_box': [0.704, 0.106, 0.07, 0.03],\n",
              "            'mask': None,\n",
              "            'mask_path': None,\n",
              "            'confidence': None,\n",
              "            'index': None,\n",
              "            'text': 'Courses',\n",
              "        }>,\n",
              "        <Detection: {\n",
              "            'id': '6868174de8fbb96d55002ca2',\n",
              "            'attributes': {},\n",
              "            'tags': [],\n",
              "            'label': 'menu',\n",
              "            'bounding_box': [0.774, 0.106, 0.125, 0.03],\n",
              "            'mask': None,\n",
              "            'mask_path': None,\n",
              "            'confidence': None,\n",
              "            'index': None,\n",
              "            'text': 'Registry Builder',\n",
              "        }>,\n",
              "        <Detection: {\n",
              "            'id': '6868174de8fbb96d55002ca3',\n",
              "            'attributes': {},\n",
              "            'tags': [],\n",
              "            'label': 'menu',\n",
              "            'bounding_box': [0.899, 0.106, 0.093, 0.03],\n",
              "            'mask': None,\n",
              "            'mask_path': None,\n",
              "            'confidence': None,\n",
              "            'index': None,\n",
              "            'text': 'Baby Products',\n",
              "        }>,\n",
              "        <Detection: {\n",
              "            'id': '6868174de8fbb96d55002ca4',\n",
              "            'attributes': {},\n",
              "            'tags': [],\n",
              "            'label': 'button',\n",
              "            'bounding_box': [0.039, 0.214, 0.038, 0.03],\n",
              "            'mask': None,\n",
              "            'mask_path': None,\n",
              "            'confidence': None,\n",
              "            'index': None,\n",
              "            'text': 'Back',\n",
              "        }>,\n",
              "        <Detection: {\n",
              "            'id': '6868174de8fbb96d55002ca5',\n",
              "            'attributes': {},\n",
              "            'tags': [],\n",
              "            'label': 'button',\n",
              "            'bounding_box': [0.381, 0.816, 0.238, 0.07],\n",
              "            'mask': None,\n",
              "            'mask_path': None,\n",
              "            'confidence': None,\n",
              "            'index': None,\n",
              "            'text': 'KEEP GOING!',\n",
              "        }>,\n",
              "    ],\n",
              "}>"
            ]
          },
          "execution_count": 9,
          "metadata": {},
          "output_type": "execute_result"
        }
      ],
      "source": [
        "dataset.first()['ocr_results']"
      ]
    },
    {
      "cell_type": "markdown",
      "id": "e22e469d",
      "metadata": {
        "id": "e22e469d"
      },
      "source": [
        "## 5. Keypoint Detection\n",
        "\n",
        "Identify important points in the UI."
      ]
    },
    {
      "cell_type": "code",
      "execution_count": null,
      "id": "33539c1e",
      "metadata": {
        "id": "33539c1e"
      },
      "outputs": [],
      "source": [
        "model.operation = \"point\"\n",
        "\n",
        "dataset.apply_model(\n",
        "    model,\n",
        "    prompt_field=\"instruction\", # using a field from the dataset\n",
        "    label_field=\"ui_keypoints\"\n",
        "    )"
      ]
    },
    {
      "cell_type": "code",
      "execution_count": 11,
      "id": "fb5c2b53",
      "metadata": {},
      "outputs": [
        {
          "data": {
            "text/plain": [
              "<Keypoints: {\n",
              "    'keypoints': [\n",
              "        <Keypoint: {\n",
              "            'id': '68681831e8fbb96d55002ced',\n",
              "            'attributes': {},\n",
              "            'tags': [],\n",
              "            'label': 'KEEP GOING! button',\n",
              "            'points': [[0.4, 0.832]],\n",
              "            'confidence': None,\n",
              "            'index': None,\n",
              "        }>,\n",
              "    ],\n",
              "}>"
            ]
          },
          "execution_count": 11,
          "metadata": {},
          "output_type": "execute_result"
        }
      ],
      "source": [
        "dataset.first()['ui_keypoints']"
      ]
    },
    {
      "cell_type": "markdown",
      "id": "44e5912a",
      "metadata": {
        "id": "44e5912a"
      },
      "source": [
        "## 6. Classification\n",
        "\n",
        "Classify the type of UI platform."
      ]
    },
    {
      "cell_type": "code",
      "execution_count": null,
      "id": "0b254fa2",
      "metadata": {
        "id": "0b254fa2"
      },
      "outputs": [],
      "source": [
        "model.operation = \"classify\"\n",
        "model.prompt = \"Classify this UI as coming from one of the following operating systems: android, ios, windows, macos, linux, chromeos, or other\"\n",
        "dataset.apply_model(model, label_field=\"ui_classifications\")"
      ]
    },
    {
      "cell_type": "code",
      "execution_count": 13,
      "id": "99ec349a",
      "metadata": {},
      "outputs": [
        {
          "data": {
            "text/plain": [
              "<Classifications: {\n",
              "    'classifications': [\n",
              "        <Classification: {\n",
              "            'id': '68681838e8fbb96d55002cf2',\n",
              "            'tags': [],\n",
              "            'label': 'web browser',\n",
              "            'confidence': None,\n",
              "            'logits': None,\n",
              "            'thought': 'The website is designed for a web browser interface.',\n",
              "        }>,\n",
              "    ],\n",
              "    'logits': None,\n",
              "}>"
            ]
          },
          "execution_count": 13,
          "metadata": {},
          "output_type": "execute_result"
        }
      ],
      "source": [
        "dataset.first()['ui_classifications']"
      ]
    },
    {
      "cell_type": "markdown",
      "id": "6248a902",
      "metadata": {
        "id": "6248a902"
      },
      "source": [
        "If your dataset has a field that you want to extract labels from to perform zero-shot classification, you can do so with the following code:"
      ]
    },
    {
      "cell_type": "code",
      "execution_count": 14,
      "id": "38efd90b",
      "metadata": {
        "id": "38efd90b"
      },
      "outputs": [],
      "source": [
        "classes = dataset.distinct(\"platform\")"
      ]
    },
    {
      "cell_type": "markdown",
      "id": "c6f034dd",
      "metadata": {
        "id": "c6f034dd"
      },
      "source": [
        "You can then use this as part of your prompt:"
      ]
    },
    {
      "cell_type": "code",
      "execution_count": null,
      "id": "1a23e899",
      "metadata": {
        "id": "1a23e899"
      },
      "outputs": [],
      "source": [
        "model.prompt = f\"Which of the following websites is this screenshot from? Pick from exactlt one of the following: {classes}\"\n",
        "dataset.apply_model(model, label_field=\"app_classifications\")"
      ]
    },
    {
      "cell_type": "code",
      "execution_count": 16,
      "id": "275238fc",
      "metadata": {},
      "outputs": [
        {
          "data": {
            "text/plain": [
              "<Classifications: {\n",
              "    'classifications': [\n",
              "        <Classification: {\n",
              "            'id': '6868183fe8fbb96d55002cf7',\n",
              "            'tags': [],\n",
              "            'label': 'web',\n",
              "            'confidence': None,\n",
              "            'logits': None,\n",
              "            'thought': 'The website is a web-based platform.',\n",
              "        }>,\n",
              "    ],\n",
              "    'logits': None,\n",
              "}>"
            ]
          },
          "execution_count": 16,
          "metadata": {},
          "output_type": "execute_result"
        }
      ],
      "source": [
        "dataset.first()['app_classifications']"
      ]
    },
    {
      "cell_type": "markdown",
      "id": "7acbf743",
      "metadata": {
        "id": "7acbf743"
      },
      "source": [
        "## 7. Agentic\n",
        "\n",
        "In this dataset, there's an `instruction` field that contains instructions for an agent."
      ]
    },
    {
      "cell_type": "code",
      "execution_count": null,
      "id": "9fc9c157",
      "metadata": {
        "id": "9fc9c157"
      },
      "outputs": [],
      "source": [
        "# If your dataset has a field called \"instruction\" with instructions\n",
        "model.operation = \"agentic\"\n",
        "dataset.apply_model(model, prompt_field=\"instruction\", label_field=\"agentic_output\")"
      ]
    },
    {
      "cell_type": "code",
      "execution_count": 18,
      "id": "d02a184c",
      "metadata": {},
      "outputs": [
        {
          "data": {
            "text/plain": [
              "<Keypoints: {\n",
              "    'keypoints': [\n",
              "        <Keypoint: {\n",
              "            'id': '68681846e8fbb96d55002cfc',\n",
              "            'attributes': {},\n",
              "            'tags': [],\n",
              "            'label': 'click',\n",
              "            'points': [[0.432, 0.844]],\n",
              "            'confidence': None,\n",
              "            'index': None,\n",
              "            'metadata': {\n",
              "                'sequence_idx': 0,\n",
              "                'action': 'click',\n",
              "                'thought': \"click on the 'KEEP GOING!' button\",\n",
              "            },\n",
              "        }>,\n",
              "    ],\n",
              "}>"
            ]
          },
          "execution_count": 18,
          "metadata": {},
          "output_type": "execute_result"
        }
      ],
      "source": [
        "dataset.first()['agentic_output']"
      ]
    },
    {
      "cell_type": "markdown",
      "id": "KFVsio5d7atu",
      "metadata": {
        "id": "KFVsio5d7atu"
      },
      "source": [
        "# 8. Detection"
      ]
    },
    {
      "cell_type": "code",
      "execution_count": null,
      "id": "mv25mMSh7bQi",
      "metadata": {
        "id": "mv25mMSh7bQi"
      },
      "outputs": [],
      "source": [
        "# If your dataset has a field called \"instruction\" with instructions\n",
        "model.operation = \"detect\"\n",
        "dataset.apply_model(model, prompt_field=\"instruction\", label_field=\"detect_output\")"
      ]
    },
    {
      "cell_type": "code",
      "execution_count": null,
      "id": "572dea78",
      "metadata": {},
      "outputs": [],
      "source": [
        "dataset.first()['detect_output']"
      ]
    },
    {
      "cell_type": "markdown",
      "id": "249c68f0",
      "metadata": {
        "id": "249c68f0"
      },
      "source": [
        "## 8. Set your own system prompts\n",
        "\n",
        "You can set your own system prompts for the model for any of the operations."
      ]
    },
    {
      "cell_type": "code",
      "execution_count": null,
      "id": "2a50a50b",
      "metadata": {
        "id": "2a50a50b"
      },
      "outputs": [],
      "source": [
        "# first, clear the system prompt\n",
        "model.system_prompt = None\n",
        "\n",
        "#then set your custom system prompt\n",
        "\n",
        "model.system_prompt = \"Your awesome custom system prompt!\""
      ]
    },
    {
      "cell_type": "markdown",
      "id": "001f52c6",
      "metadata": {
        "id": "001f52c6"
      },
      "source": [
        "## 9. View Results\n"
      ]
    },
    {
      "cell_type": "code",
      "execution_count": 22,
      "id": "89bdf076",
      "metadata": {
        "id": "89bdf076"
      },
      "outputs": [
        {
          "data": {
            "text/html": [
              "\n",
              "<style>\n",
              "@import url(\"https://fonts.googleapis.com/css2?family=Palanquin&display=swap\");\n",
              "\n",
              "body, html {\n",
              "  margin: 0;\n",
              "  padding: 0;\n",
              "  width: 100%;\n",
              "}\n",
              "\n",
              "#focontainer-2c45d948-8d15-46a0-a2d6-154e730a73a8 {\n",
              "  position: relative;\n",
              "  height: 800px;\n",
              "  display: block !important;\n",
              "}\n",
              "#foactivate-2c45d948-8d15-46a0-a2d6-154e730a73a8 {\n",
              "  font-weight: bold;\n",
              "  cursor: pointer;\n",
              "  font-size: 24px;\n",
              "  border-radius: 3px;\n",
              "  text-align: center;\n",
              "  padding: 0.5em;\n",
              "  color: rgb(255, 255, 255);\n",
              "  font-family: \"Palanquin\", sans-serif;\n",
              "  position: absolute;\n",
              "  left: 50%;\n",
              "  top: 50%;\n",
              "  width: 160px;\n",
              "  margin-left: -80px;\n",
              "  margin-top: -23px;\n",
              "  background: hsla(210,11%,15%, 0.8);\n",
              "  border: none;\n",
              "}\n",
              "#foactivate-2c45d948-8d15-46a0-a2d6-154e730a73a8:focus {\n",
              "  outline: none;\n",
              "}\n",
              "#fooverlay-2c45d948-8d15-46a0-a2d6-154e730a73a8 {\n",
              "  width: 100%;\n",
              "  height: 100%;\n",
              "  background: hsla(208, 7%, 46%, 0.7);\n",
              "  position: absolute;\n",
              "  top: 0;\n",
              "  left: 0;\n",
              "  display: none;\n",
              "  cursor: pointer;\n",
              "}\n",
              "</style>\n",
              "\n",
              "<div id=\"focontainer-2c45d948-8d15-46a0-a2d6-154e730a73a8\">\n",
              "   <div id=\"fooverlay-2c45d948-8d15-46a0-a2d6-154e730a73a8\" style=\"display: none;\">\n",
              "      <button id=\"foactivate-2c45d948-8d15-46a0-a2d6-154e730a73a8\" >Activate</button>\n",
              "   </div>\n",
              "   <img src='data:image/jpeg;base64,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' style=\"width: 100%; max-width: 1497px;\"/>\n",
              "</div>\n",
              "\n",
              "<script type=\"text/javascript\">\n",
              "   (function() {\n",
              "     var container = document.getElementById(\"focontainer-2c45d948-8d15-46a0-a2d6-154e730a73a8\");\n",
              "     var overlay = document.getElementById(\"fooverlay-2c45d948-8d15-46a0-a2d6-154e730a73a8\");\n",
              "     fetch(`http://localhost:5151/fiftyone`)\n",
              "     .then(() => {\n",
              "        overlay.addEventListener(\"click\", () => {\n",
              "          fetch(`http://localhost:5151/event`, {\n",
              "            method: \"POST\",\n",
              "            body: JSON.stringify({\n",
              "              event: \"reactivate_notebook_cell\",\n",
              "              data: { subscription: \"2c45d948-8d15-46a0-a2d6-154e730a73a8\" },\n",
              "              subscription: \"2c45d948-8d15-46a0-a2d6-154e730a73a8\"\n",
              "            })\n",
              "          })\n",
              "        });\n",
              "        container.addEventListener(\"mouseenter\", () => overlay.style.display = \"block\");\n",
              "        container.addEventListener(\"mouseleave\", () => overlay.style.display = \"none\");\n",
              "     });\n",
              "   })();\n",
              "</script>"
            ],
            "text/plain": [
              "<IPython.core.display.HTML object>"
            ]
          },
          "metadata": {},
          "output_type": "display_data"
        }
      ],
      "source": [
        "# Visualize all results in the FiftyOne App\n",
        "session = fo.launch_app(dataset)"
      ]
    },
    {
      "cell_type": "code",
      "execution_count": 23,
      "id": "93933402",
      "metadata": {
        "id": "93933402"
      },
      "outputs": [],
      "source": [
        "session.freeze()"
      ]
    }
  ],
  "metadata": {
    "accelerator": "GPU",
    "colab": {
      "gpuType": "A100",
      "machine_shape": "hm",
      "provenance": []
    },
    "jupytext": {
      "cell_metadata_filter": "-all",
      "main_language": "python",
      "notebook_metadata_filter": "-all"
    },
    "kernelspec": {
      "display_name": "fo_develop",
      "language": "python",
      "name": "python3"
    },
    "language_info": {
      "codemirror_mode": {
        "name": "ipython",
        "version": 3
      },
      "file_extension": ".py",
      "mimetype": "text/x-python",
      "name": "python",
      "nbconvert_exporter": "python",
      "pygments_lexer": "ipython3",
      "version": "3.11.8"
    }
  },
  "nbformat": 4,
  "nbformat_minor": 5
}
